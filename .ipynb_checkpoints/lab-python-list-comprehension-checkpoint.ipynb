{
 "cells": [
  {
   "cell_type": "markdown",
   "id": "25d7736c-ba17-4aff-b6bb-66eba20fbf4e",
   "metadata": {},
   "source": [
    "# Lab | List, Dict and Set Comprehension"
   ]
  },
  {
   "cell_type": "markdown",
   "id": "7dd3cbde-675a-4b81-92c3-f728846dbe06",
   "metadata": {},
   "source": [
    "## Exercise: Managing Customer Orders Optimized with Comprehension"
   ]
  },
  {
   "cell_type": "markdown",
   "id": "5d500160-2fb7-4777-b5e4-09d45ebaf328",
   "metadata": {},
   "source": [
    "In the previous exercise, you developed a program to manage customer orders and inventory. Now, let's take it a step further and incorporate comprehension into your code.\n",
    "\n",
    "Follow the steps below to complete the exercise:\n",
    "\n",
    "1. Review your code from the previous exercise and identify areas where you can apply comprehension to simplify and streamline your code. \n",
    "\n",
    "    - *Hint: Apply it to initialize inventory, updating the inventory and printing the updated inventory.*\n",
    "    \n",
    "    - For example, in initializing the inventory, we could have:\n",
    "    \n",
    "        ```python\n",
    "        def initialize_inventory(products):\n",
    "            inventory = {product: int(input(f\"Enter the quantity of {product}s available: \")) for product in products}\n",
    "            return inventory\n",
    "\n",
    "        ```\n",
    "<br>\n",
    "    \n",
    "    \n",
    "2. Modify the function get_customer_orders so it prompts the user to enter the number of customer orders and gathers the product names using a loop and user input. Use comprehension.\n",
    "\n",
    "3. Add a new function to calculate the total price of the customer order. For each product in customer_orders, prompt the user to enter the price of that product. Use comprehension to calculate the total price. Note: assume that the user can only have 1 unit of each product.\n",
    "\n",
    "4. Modify the update_inventory function to remove the product from the inventory if its quantity becomes zero after fulfilling the customer orders. Use comprehension to filter out the products with a quantity of zero from the inventory.\n",
    "\n",
    "5. Print the total price of the customer order.\n",
    "\n",
    "Your code should produce output similar to the following:\n",
    "\n",
    "```python\n",
    "Enter the quantity of t-shirts available:  5\n",
    "Enter the quantity of mugs available:  4\n",
    "Enter the quantity of hats available:  3\n",
    "Enter the quantity of books available:  2\n",
    "Enter the quantity of keychains available:  1\n",
    "Enter the number of customer orders:  2\n",
    "Enter the name of a product that a customer wants to order:  hat\n",
    "Enter the name of a product that a customer wants to order:  keychain\n",
    "\n",
    "Order Statistics:\n",
    "Total Products Ordered: 2\n",
    "Percentage of Unique Products Ordered: 40.0\n",
    "\n",
    "Updated Inventory:\n",
    "t-shirt: 5\n",
    "mug: 4\n",
    "hat: 2\n",
    "book: 2\n",
    "Enter the price of keychain:  5\n",
    "Enter the price of hat:  10\n",
    "Total Price: 15.0\n",
    "\n",
    "```\n"
   ]
  },
  {
   "cell_type": "code",
   "execution_count": 30,
   "id": "dfdb1861-4880-4149-a7ca-b5c2c8936c09",
   "metadata": {},
   "outputs": [],
   "source": [
    "def initialize_inventory (products):\n",
    "    for product in products:\n",
    "        employee_input= int(input(f'Please enter the quantity of each {product} available in the inventory:'))\n",
    "        inventory[product]=employee_input\n",
    "    return inventory\n"
   ]
  },
  {
   "cell_type": "code",
   "execution_count": null,
   "id": "70d4af80-38d3-45b6-b0d4-ff3b95a3f2e4",
   "metadata": {},
   "outputs": [],
   "source": [
    "#Comprehension format initialize_inventory(products)"
   ]
  },
  {
   "cell_type": "code",
   "execution_count": 32,
   "id": "dff904f9-60b4-45d4-901a-f1a920d74748",
   "metadata": {},
   "outputs": [],
   "source": [
    "def initialize_inventory(products):\n",
    "    inventory = {product: int(input(f\"Enter the quantity of {product}s available: \")) for product in products}\n",
    "    return inventory"
   ]
  },
  {
   "cell_type": "code",
   "execution_count": 13,
   "id": "130e7fed-a3b7-4f1f-ac3e-8f095b4daa5b",
   "metadata": {},
   "outputs": [
    {
     "name": "stdin",
     "output_type": "stream",
     "text": [
      "Please enter the name of a product you would like to order:  tshirt\n",
      "Would you like to order another product? yes\n",
      "Please enter the name of a product you would like to order:  mug\n",
      "Would you like to order another product? yes\n",
      "Please enter the name of a product you would like to order:  hat\n",
      "Would you like to order another product? no\n"
     ]
    },
    {
     "name": "stdout",
     "output_type": "stream",
     "text": [
      "Thank you, see you later!\n"
     ]
    }
   ],
   "source": [
    "def get_customer_orders():\n",
    "    customer_order=set()\n",
    "    other_product_QA ='yes'\n",
    "    while other_product_QA=='yes':\n",
    "        order=input('Please enter the name of a product you would like to order: ')\n",
    "        customer_order.add(order)\n",
    "        other_product_QA=input('Would you like to order another product?')\n",
    "    if other_product_QA !='yes':\n",
    "        print('Thank you, see you later!')\n",
    "\n",
    "get_customer_orders()"
   ]
  },
  {
   "cell_type": "code",
   "execution_count": 16,
   "id": "603a4a71-52d9-44d0-bc0c-6026cd6c7fde",
   "metadata": {},
   "outputs": [],
   "source": [
    "def update_inventory (customer_orders, inventory):\n",
    "    for order in customer_orders:\n",
    "        inventory[order]-=1\n",
    "    return inventory"
   ]
  },
  {
   "cell_type": "code",
   "execution_count": null,
   "id": "daedfd97-f89e-46cf-96b4-b3567639c533",
   "metadata": {},
   "outputs": [],
   "source": [
    "#Comprehension format | update_inventory (customer_orders, inventory)"
   ]
  },
  {
   "cell_type": "code",
   "execution_count": 68,
   "id": "e9b65f80-d0ec-4dbb-82d6-5a5fbf80653c",
   "metadata": {},
   "outputs": [
    {
     "data": {
      "text/plain": [
       "function"
      ]
     },
     "execution_count": 68,
     "metadata": {},
     "output_type": "execute_result"
    }
   ],
   "source": [
    "type(update_inventory)"
   ]
  },
  {
   "cell_type": "code",
   "execution_count": 65,
   "id": "d3a9c9db-4dac-4e8e-8c0e-bed1b808b4b4",
   "metadata": {},
   "outputs": [
    {
     "ename": "SyntaxError",
     "evalue": "invalid syntax (1873182739.py, line 1)",
     "output_type": "error",
     "traceback": [
      "\u001b[0;36m  Cell \u001b[0;32mIn[65], line 1\u001b[0;36m\u001b[0m\n\u001b[0;31m    update_inventory=[inventory[order]-=1 for order in customer_orders]\u001b[0m\n\u001b[0m                                      ^\u001b[0m\n\u001b[0;31mSyntaxError\u001b[0m\u001b[0;31m:\u001b[0m invalid syntax\n"
     ]
    }
   ],
   "source": [
    "update_inventory=[inventory[order]-=1 for order in customer_orders]"
   ]
  },
  {
   "cell_type": "code",
   "execution_count": 55,
   "id": "aa15e00d-bf99-4d88-bdf7-147313cdaf7d",
   "metadata": {},
   "outputs": [],
   "source": [
    "def calculate_order_statistics (customer_orders,products):\n",
    "    total_products_ordered=len(customer_orders)\n",
    "    percentage=(len(customer_orders)/sum(inventory.values())*100)\n",
    "    print('The client ordered',percentage,'% of the total products available. Additionally, the customer ordered a total of',total_products_ordered,'products')\n",
    "    return  total_products_ordered,percentage"
   ]
  },
  {
   "cell_type": "code",
   "execution_count": 57,
   "id": "c138f526-89b7-4a1d-b1e1-137ac3d3c111",
   "metadata": {},
   "outputs": [],
   "source": [
    "def print_order_statistics(order_statistics):\n",
    "    print(order_statistics)"
   ]
  },
  {
   "cell_type": "code",
   "execution_count": 59,
   "id": "bdaa8191-74e0-4bee-bdcb-9e0ee314de36",
   "metadata": {},
   "outputs": [],
   "source": [
    "def print_updated_inventory(inventory):\n",
    "    print(update_inventory (customer_orders, inventory))\n"
   ]
  },
  {
   "cell_type": "code",
   "execution_count": 63,
   "id": "149b5793-caba-4e9a-878f-642b1dbd2bae",
   "metadata": {},
   "outputs": [
    {
     "ename": "NameError",
     "evalue": "name 'products' is not defined",
     "output_type": "error",
     "traceback": [
      "\u001b[0;31m---------------------------------------------------------------------------\u001b[0m",
      "\u001b[0;31mNameError\u001b[0m                                 Traceback (most recent call last)",
      "Cell \u001b[0;32mIn[63], line 1\u001b[0m\n\u001b[0;32m----> 1\u001b[0m initialize_inventory(products)\n\u001b[1;32m      2\u001b[0m get_customer_orders()\n\u001b[1;32m      3\u001b[0m update_inventory (customer_orders, inventory)\n",
      "\u001b[0;31mNameError\u001b[0m: name 'products' is not defined"
     ]
    }
   ],
   "source": [
    "initialize_inventory(products)\n",
    "get_customer_orders()\n",
    "update_inventory (customer_orders, inventory)\n",
    "print_order_statistics(order_statistics)\n",
    "print_updated_inventory(inventory)"
   ]
  },
  {
   "cell_type": "markdown",
   "id": "6557621b-d244-4df8-aa7d-12088db5fc31",
   "metadata": {},
   "source": [
    "## LAB INCOMPLETE ATM"
   ]
  },
  {
   "cell_type": "code",
   "execution_count": null,
   "id": "9a33ebc9-5464-4b1e-977f-dd76de9602c7",
   "metadata": {},
   "outputs": [],
   "source": []
  }
 ],
 "metadata": {
  "kernelspec": {
   "display_name": "Python 3 (ipykernel)",
   "language": "python",
   "name": "python3"
  },
  "language_info": {
   "codemirror_mode": {
    "name": "ipython",
    "version": 3
   },
   "file_extension": ".py",
   "mimetype": "text/x-python",
   "name": "python",
   "nbconvert_exporter": "python",
   "pygments_lexer": "ipython3",
   "version": "3.12.4"
  }
 },
 "nbformat": 4,
 "nbformat_minor": 5
}
